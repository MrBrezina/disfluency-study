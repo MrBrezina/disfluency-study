{
 "cells": [
  {
   "cell_type": "markdown",
   "metadata": {},
   "source": [
    "# Statistical analysis"
   ]
  },
  {
   "cell_type": "code",
   "execution_count": 20,
   "metadata": {},
   "outputs": [
    {
     "name": "stdout",
     "output_type": "stream",
     "text": [
      "Number of participants: 21\n"
     ]
    }
   ],
   "source": [
    "import pandas as pd\n",
    "import numpy as np\n",
    "\n",
    "d = pd.read_csv(\"data-processed.csv\")"
   ]
  },
  {
   "cell_type": "markdown",
   "metadata": {},
   "source": [
    "## Participants"
   ]
  },
  {
   "cell_type": "code",
   "execution_count": 33,
   "metadata": {},
   "outputs": [
    {
     "name": "stdout",
     "output_type": "stream",
     "text": [
      "Number of participants:\n",
      "21\n",
      "\n",
      "Native vs. non-native:\n",
      "\n",
      "Different kinds of designers:\n"
     ]
    }
   ],
   "source": [
    "print(\"Number of participants:\")\n",
    "print(len(d[\"Participant ID\"].unique()))\n",
    "print()\n",
    "print(\"Native vs. non-native:\")\n",
    "#print(d[\"Native\"].value_counts())\n",
    "print()\n",
    "print(\"Different kinds of designers:\")\n",
    "#print(d[\"Designer\"].value_counts())\n"
   ]
  },
  {
   "cell_type": "markdown",
   "metadata": {},
   "source": [
    "## JoM for categories of designers"
   ]
  },
  {
   "cell_type": "code",
   "execution_count": 18,
   "metadata": {},
   "outputs": [
    {
     "name": "stdout",
     "output_type": "stream",
     "text": [
      "JoM for categories of designers\n"
     ]
    },
    {
     "data": {
      "text/plain": [
       "Designer\n",
       "Non-designer      45.416667\n",
       "Other designer    48.333333\n",
       "Name: JoM, dtype: float64"
      ]
     },
     "metadata": {},
     "output_type": "display_data"
    }
   ],
   "source": [
    "display(d.groupby(\"Designer\")[\"JoM\"].mean())"
   ]
  },
  {
   "cell_type": "markdown",
   "metadata": {},
   "source": [
    "## JoL for categories of designers"
   ]
  },
  {
   "cell_type": "code",
   "execution_count": 19,
   "metadata": {},
   "outputs": [
    {
     "name": "stdout",
     "output_type": "stream",
     "text": [
      "JoL for categories of designers\n"
     ]
    },
    {
     "data": {
      "text/plain": [
       "Designer        JoL                   \n",
       "Non-designer    easy to read              396\n",
       "                difficult to read         360\n",
       "                very easy to read         288\n",
       "                ok                        144\n",
       "                very difficult to read    108\n",
       "Other designer  difficult to read          72\n",
       "                ok                         72\n",
       "                easy to read               36\n",
       "                very easy to read          36\n",
       "Name: JoL, dtype: int64"
      ]
     },
     "metadata": {},
     "output_type": "display_data"
    }
   ],
   "source": [
    "display(d.groupby(\"Designer\")[\"JoL\"].value_counts())"
   ]
  },
  {
   "cell_type": "code",
   "execution_count": null,
   "metadata": {},
   "outputs": [],
   "source": []
  }
 ],
 "metadata": {
  "kernelspec": {
   "display_name": "Python 3",
   "language": "python",
   "name": "python3"
  },
  "language_info": {
   "codemirror_mode": {
    "name": "ipython",
    "version": 3
   },
   "file_extension": ".py",
   "mimetype": "text/x-python",
   "name": "python",
   "nbconvert_exporter": "python",
   "pygments_lexer": "ipython3",
   "version": "3.6.8"
  }
 },
 "nbformat": 4,
 "nbformat_minor": 2
}
