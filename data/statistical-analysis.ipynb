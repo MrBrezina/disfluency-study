{
 "cells": [
  {
   "cell_type": "markdown",
   "metadata": {},
   "source": [
    "# Statistical analysis"
   ]
  },
  {
   "cell_type": "code",
   "execution_count": 23,
   "metadata": {},
   "outputs": [],
   "source": [
    "import pandas as pd\n",
    "import numpy as np\n",
    "import matplotlib.pyplot as plt\n",
    "\n",
    "datafilename = \"data_processed.csv\"\n",
    "d = pd.read_csv(datafile)\n",
    "#d = d[-72:] # use just the data for the  last participant\n",
    "\n",
    "# functions to calculate AUC and plot ROC\n",
    "\n",
    "def cummulative(x):\n",
    "    return [sum(x[0:i+1]) for i in range(len(x))]\n",
    "\n",
    "def get_auc(x, y):\n",
    "    # make cummulative\n",
    "    x, y = cummulative(x), cummulative(y)\n",
    "    # normalize\n",
    "    x = [xi/max(x) for xi in x]\n",
    "    y = [yi/max(y) for yi in y]\n",
    "    auc = 0\n",
    "    x1, y1 = 0, 0\n",
    "    for x2, y2 in zip(x, y):\n",
    "        auc += (x2 - x1) * (y1 + y2) / 2\n",
    "        x1, y1 = x2, y2\n",
    "    return auc\n",
    "\n",
    "def plot_roc(x, y):\n",
    "    x, y = cummulative(x), cummulative(y)\n",
    "    plt.plot((min(x), max(x)), (min(y), max(y)), color='red', linewidth=1, linestyle='--')\n",
    "    for i in range(len(x)-1):\n",
    "        plt.plot((x[i], x[i+1]), (y[i], y[i+1]), color='black', linewidth=1)\n",
    "    for i in range(len(x)):\n",
    "        plt.scatter(x[i], y[i], marker='o', s=30, color='black')\n",
    "    #plt.xlim(0.0, 1.0)\n",
    "    #plt.ylim(0.0, 1.0)\n",
    "    plt.show()"
   ]
  },
  {
   "cell_type": "markdown",
   "metadata": {},
   "source": [
    "## Participants"
   ]
  },
  {
   "cell_type": "code",
   "execution_count": 24,
   "metadata": {},
   "outputs": [
    {
     "name": "stdout",
     "output_type": "stream",
     "text": [
      "Number of participants:\n",
      "39\n",
      "\n",
      "Fluent vs. non-native:\n",
      "True     36.0\n",
      "False     3.0\n",
      "Name: Fluent, dtype: float64\n",
      "\n",
      "Different kinds of designers:\n",
      "Letter designer     17.0\n",
      "Non-designer         7.0\n",
      "Graphic designer     7.0\n",
      "Typographer          4.0\n",
      "Other designer       4.0\n",
      "Name: Designer, dtype: float64\n"
     ]
    }
   ],
   "source": [
    "print(\"Number of participants:\")\n",
    "print(len(d[\"Participant ID\"].unique()))\n",
    "print()\n",
    "print(\"Fluent vs. non-native:\")\n",
    "print(d[\"Fluent\"].value_counts() / 72) # there is 72 trials\n",
    "print()\n",
    "print(\"Different kinds of designers:\")\n",
    "print(d[\"Designer\"].value_counts() / 72)\n"
   ]
  },
  {
   "cell_type": "markdown",
   "metadata": {},
   "source": [
    "## JoM for categories of designers"
   ]
  },
  {
   "cell_type": "code",
   "execution_count": 25,
   "metadata": {},
   "outputs": [
    {
     "data": {
      "text/plain": [
       "Designer\n",
       "Graphic designer    53.642857\n",
       "Letter designer     60.088235\n",
       "Non-designer        52.357143\n",
       "Other designer      50.625000\n",
       "Typographer         56.000000\n",
       "Name: JoM, dtype: float64"
      ]
     },
     "metadata": {},
     "output_type": "display_data"
    }
   ],
   "source": [
    "display(d.groupby(\"Designer\")[\"JoM\"].mean())"
   ]
  },
  {
   "cell_type": "markdown",
   "metadata": {},
   "source": [
    "## JoL for categories of designers (draft)"
   ]
  },
  {
   "cell_type": "code",
   "execution_count": 26,
   "metadata": {},
   "outputs": [
    {
     "data": {
      "text/plain": [
       "Designer          JoL                   \n",
       "Graphic designer  very easy to read         7.0\n",
       "                  easy to read              2.0\n",
       "                  ok                        2.0\n",
       "                  very difficult to read    2.0\n",
       "                  difficult to read         1.0\n",
       "Letter designer   difficult to read         9.0\n",
       "                  very easy to read         9.0\n",
       "                  ok                        7.0\n",
       "                  easy to read              6.0\n",
       "                  very difficult to read    3.0\n",
       "Non-designer      very easy to read         6.0\n",
       "                  difficult to read         4.0\n",
       "                  very difficult to read    2.0\n",
       "                  easy to read              1.0\n",
       "                  ok                        1.0\n",
       "Other designer    ok                        4.0\n",
       "                  very easy to read         3.0\n",
       "                  difficult to read         1.0\n",
       "Typographer       very easy to read         4.0\n",
       "                  difficult to read         2.0\n",
       "                  ok                        2.0\n",
       "Name: JoL, dtype: float64"
      ]
     },
     "metadata": {},
     "output_type": "display_data"
    }
   ],
   "source": [
    "display(d.groupby(\"Designer\")[\"JoL\"].value_counts() / 36)"
   ]
  },
  {
   "cell_type": "markdown",
   "metadata": {},
   "source": [
    "## Calculating AUC and RT"
   ]
  },
  {
   "cell_type": "code",
   "execution_count": 27,
   "metadata": {},
   "outputs": [
    {
     "data": {
      "text/html": [
       "<div>\n",
       "<style scoped>\n",
       "    .dataframe tbody tr th:only-of-type {\n",
       "        vertical-align: middle;\n",
       "    }\n",
       "\n",
       "    .dataframe tbody tr th {\n",
       "        vertical-align: top;\n",
       "    }\n",
       "\n",
       "    .dataframe thead th {\n",
       "        text-align: right;\n",
       "    }\n",
       "</style>\n",
       "<table border=\"1\" class=\"dataframe\">\n",
       "  <thead>\n",
       "    <tr style=\"text-align: right;\">\n",
       "      <th></th>\n",
       "      <th></th>\n",
       "      <th></th>\n",
       "      <th></th>\n",
       "      <th>Native</th>\n",
       "      <th>Designer</th>\n",
       "      <th>Font</th>\n",
       "      <th>Correct</th>\n",
       "      <th>Response time</th>\n",
       "      <th>Response time (word)</th>\n",
       "      <th>Response time (non-word)</th>\n",
       "      <th>AUC</th>\n",
       "      <th>AUC (word)</th>\n",
       "      <th>AUC (non-word)</th>\n",
       "      <th>JoL</th>\n",
       "      <th>JoM</th>\n",
       "      <th>Date</th>\n",
       "    </tr>\n",
       "    <tr>\n",
       "      <th>Study ID</th>\n",
       "      <th>Participant ID</th>\n",
       "      <th>Test ID</th>\n",
       "      <th>Test type</th>\n",
       "      <th></th>\n",
       "      <th></th>\n",
       "      <th></th>\n",
       "      <th></th>\n",
       "      <th></th>\n",
       "      <th></th>\n",
       "      <th></th>\n",
       "      <th></th>\n",
       "      <th></th>\n",
       "      <th></th>\n",
       "      <th></th>\n",
       "      <th></th>\n",
       "      <th></th>\n",
       "    </tr>\n",
       "  </thead>\n",
       "  <tbody>\n",
       "    <tr>\n",
       "      <th rowspan=\"4\" valign=\"top\">1.0</th>\n",
       "      <th rowspan=\"4\" valign=\"top\">38.0</th>\n",
       "      <th rowspan=\"2\" valign=\"top\">1</th>\n",
       "      <th>lexical</th>\n",
       "      <td>NaN</td>\n",
       "      <td>Letter designer</td>\n",
       "      <td>arial</td>\n",
       "      <td>0.9000</td>\n",
       "      <td>4039.9000</td>\n",
       "      <td>2376.000</td>\n",
       "      <td>5703.800</td>\n",
       "      <td>1.0000</td>\n",
       "      <td>NaN</td>\n",
       "      <td>NaN</td>\n",
       "      <td>easy to read</td>\n",
       "      <td>85</td>\n",
       "      <td>04-04-2019 08:32</td>\n",
       "    </tr>\n",
       "    <tr>\n",
       "      <th>recognition</th>\n",
       "      <td>NaN</td>\n",
       "      <td>Letter designer</td>\n",
       "      <td>arial</td>\n",
       "      <td>1.0000</td>\n",
       "      <td>2186.6875</td>\n",
       "      <td>1889.625</td>\n",
       "      <td>2483.750</td>\n",
       "      <td>1.0000</td>\n",
       "      <td>1.0</td>\n",
       "      <td>1.000</td>\n",
       "      <td>easy to read</td>\n",
       "      <td>85</td>\n",
       "      <td>04-04-2019 08:32</td>\n",
       "    </tr>\n",
       "    <tr>\n",
       "      <th rowspan=\"2\" valign=\"top\">2</th>\n",
       "      <th>lexical</th>\n",
       "      <td>NaN</td>\n",
       "      <td>Letter designer</td>\n",
       "      <td>sansforgetica</td>\n",
       "      <td>0.9500</td>\n",
       "      <td>4101.7500</td>\n",
       "      <td>2416.200</td>\n",
       "      <td>5787.300</td>\n",
       "      <td>1.0000</td>\n",
       "      <td>NaN</td>\n",
       "      <td>NaN</td>\n",
       "      <td>difficult to read</td>\n",
       "      <td>75</td>\n",
       "      <td>04-04-2019 08:32</td>\n",
       "    </tr>\n",
       "    <tr>\n",
       "      <th>recognition</th>\n",
       "      <td>NaN</td>\n",
       "      <td>Letter designer</td>\n",
       "      <td>sansforgetica</td>\n",
       "      <td>0.9375</td>\n",
       "      <td>3256.6250</td>\n",
       "      <td>4113.125</td>\n",
       "      <td>2400.125</td>\n",
       "      <td>0.9375</td>\n",
       "      <td>1.0</td>\n",
       "      <td>0.875</td>\n",
       "      <td>difficult to read</td>\n",
       "      <td>75</td>\n",
       "      <td>04-04-2019 08:32</td>\n",
       "    </tr>\n",
       "  </tbody>\n",
       "</table>\n",
       "</div>"
      ],
      "text/plain": [
       "                                             Native         Designer  \\\n",
       "Study ID Participant ID Test ID Test type                              \n",
       "1.0      38.0           1       lexical         NaN  Letter designer   \n",
       "                                recognition     NaN  Letter designer   \n",
       "                        2       lexical         NaN  Letter designer   \n",
       "                                recognition     NaN  Letter designer   \n",
       "\n",
       "                                                      Font  Correct  \\\n",
       "Study ID Participant ID Test ID Test type                             \n",
       "1.0      38.0           1       lexical              arial   0.9000   \n",
       "                                recognition          arial   1.0000   \n",
       "                        2       lexical      sansforgetica   0.9500   \n",
       "                                recognition  sansforgetica   0.9375   \n",
       "\n",
       "                                             Response time  \\\n",
       "Study ID Participant ID Test ID Test type                    \n",
       "1.0      38.0           1       lexical          4039.9000   \n",
       "                                recognition      2186.6875   \n",
       "                        2       lexical          4101.7500   \n",
       "                                recognition      3256.6250   \n",
       "\n",
       "                                             Response time (word)  \\\n",
       "Study ID Participant ID Test ID Test type                           \n",
       "1.0      38.0           1       lexical                  2376.000   \n",
       "                                recognition              1889.625   \n",
       "                        2       lexical                  2416.200   \n",
       "                                recognition              4113.125   \n",
       "\n",
       "                                             Response time (non-word)     AUC  \\\n",
       "Study ID Participant ID Test ID Test type                                       \n",
       "1.0      38.0           1       lexical                      5703.800  1.0000   \n",
       "                                recognition                  2483.750  1.0000   \n",
       "                        2       lexical                      5787.300  1.0000   \n",
       "                                recognition                  2400.125  0.9375   \n",
       "\n",
       "                                             AUC (word)  AUC (non-word)  \\\n",
       "Study ID Participant ID Test ID Test type                                 \n",
       "1.0      38.0           1       lexical             NaN             NaN   \n",
       "                                recognition         1.0           1.000   \n",
       "                        2       lexical             NaN             NaN   \n",
       "                                recognition         1.0           0.875   \n",
       "\n",
       "                                                           JoL  JoM  \\\n",
       "Study ID Participant ID Test ID Test type                             \n",
       "1.0      38.0           1       lexical           easy to read   85   \n",
       "                                recognition       easy to read   85   \n",
       "                        2       lexical      difficult to read   75   \n",
       "                                recognition  difficult to read   75   \n",
       "\n",
       "                                                         Date  \n",
       "Study ID Participant ID Test ID Test type                      \n",
       "1.0      38.0           1       lexical      04-04-2019 08:32  \n",
       "                                recognition  04-04-2019 08:32  \n",
       "                        2       lexical      04-04-2019 08:32  \n",
       "                                recognition  04-04-2019 08:32  "
      ]
     },
     "metadata": {},
     "output_type": "display_data"
    }
   ],
   "source": [
    "fonts = set(d[\"Font\"].unique())\n",
    "\n",
    "result_columns = [\"Study ID\", \"Participant ID\", \"Test ID\", \"Test type\",\n",
    "                  \"Native\", \"Designer\", \"Font\", \"Correct\", \"Response time\",\n",
    "                  \"Response time (word)\", \"Response time (non-word)\",\n",
    "                  \"AUC\", \"AUC (word)\", \"AUC (non-word)\",\n",
    "                  \"JoL\", \"JoM\", \"Date\"]\n",
    "agg_columns = {k:\"first\" for k in set(d.columns).intersection(result_columns)}\n",
    "agg_columns[\"Correct\"] = \"mean\"\n",
    "agg_columns[\"Response time\"] = \"mean\"\n",
    "results = d.groupby([\"Study ID\", \"Participant ID\", \"Test ID\", \"Test type\"]).agg(agg_columns)\n",
    "results = pd.DataFrame(results, columns=result_columns)\n",
    "results.set_index([\"Study ID\", \"Participant ID\", \"Test ID\", \"Test type\"], inplace=True)\n",
    "\n",
    "# prepare indexes for temporary data frames\n",
    "ix = {}\n",
    "test_ids = set(d[\"Test ID\"].unique())\n",
    "category_used = \"Category\"\n",
    "categories = [\"word\", \"non-word\"]\n",
    "responses = [\"Sure word\", \"Probably word\", \"Probably non-word\", \"Sure non-word\"]\n",
    "ix[\"lexical\"] = (category_used, pd.MultiIndex.from_product([categories, responses], names=[category_used, \"Response\"]))\n",
    "category_used = \"Seen\"\n",
    "categories = [\"seen\", \"not seen\"]\n",
    "responses = [\"Sure seen\", \"Probably seen\", \"Probably not seen\", \"Sure not seen\"]\n",
    "ix[\"recognition\"] = (category_used, pd.MultiIndex.from_product([categories, responses], names=[category_used, \"Response\"]))\n",
    "\n",
    "for sid in d[\"Study ID\"].unique():\n",
    "    for pid in d[d[\"Study ID\"] == sid][\"Participant ID\"].unique():\n",
    "        for tid in test_ids:\n",
    "            dt = d[(d[\"Study ID\"] == sid) & (d[\"Participant ID\"] == pid) & (d[\"Test ID\"] == tid)]\n",
    "            for ttype in dt[\"Test type\"].unique():\n",
    "                category_used, index = ix[ttype]\n",
    "                # ensure the order in the index is always the same\n",
    "                dg = pd.DataFrame(index=index)\n",
    "                dg[\"Frequencies\"] = dt[dt[\"Test type\"] == ttype].groupby([category_used])[\"Response\"].value_counts()\n",
    "                dg = dg.fillna(0)\n",
    "                # frequencies for word/seen -> y coordinate\n",
    "                # frequencies for non-word/not seen -> x coordinate\n",
    "                freqs = dg[\"Frequencies\"].tolist()\n",
    "                auc = get_auc(freqs[4:], freqs[:4])\n",
    "                results.loc[(sid, pid, tid, ttype), \"AUC\"] = auc\n",
    "                rt = dt[dt[\"Test type\"] == ttype][\"Response time\"].mean()\n",
    "                results.loc[(sid, pid, tid, ttype), \"Response time\"] = rt\n",
    "                for cat in [\"word\", \"non-word\"]:\n",
    "                    if ttype == \"recognition\":\n",
    "                        dg[\"Frequencies\"] = dt[(dt[\"Test type\"] == ttype) & (dt[\"Category\"] == cat)].groupby([category_used])[\"Response\"].value_counts()\n",
    "                        dg = dg.fillna(0)\n",
    "                        freqs = dg[\"Frequencies\"].tolist()\n",
    "                        auc = get_auc(freqs[4:], freqs[:4])\n",
    "                        results.loc[(sid, pid, tid, ttype), \"AUC (%s)\" % cat] = auc\n",
    "                    rt = dt[(dt[\"Test type\"] == ttype) & (dt[\"Category\"] == cat)][\"Response time\"].mean()\n",
    "                    results.loc[(sid, pid, tid, ttype), \"Response time (%s)\" % cat] = rt\n",
    "            \n",
    "display(results[-4:])\n",
    "results.to_csv(datafilename.replace(\"_processed.csv\", \"_stats.csv\"))"
   ]
  },
  {
   "cell_type": "code",
   "execution_count": 28,
   "metadata": {},
   "outputs": [
    {
     "data": {
      "text/plain": [
       "<matplotlib.axes._subplots.AxesSubplot at 0x1106fb9b0>"
      ]
     },
     "execution_count": 28,
     "metadata": {},
     "output_type": "execute_result"
    },
    {
     "data": {
      "image/png": "[encoded data removed]",
      "text/plain": [
       "<Figure size 1440x360 with 1 Axes>"
      ]
     },
     "metadata": {},
     "output_type": "display_data"
    }
   ],
   "source": [
    "times = pd.DataFrame(d, columns=[\"Study ID\", \"Participant ID\", \"Test ID\", \"Test type\", \"Response time\"])\n",
    "times.set_index([\"Study ID\", \"Participant ID\", \"Test ID\", \"Test type\"], inplace=True)\n",
    "times = pd.DataFrame(times.values.reshape((-1,72)))\n",
    "#display(times)\n",
    "times.T.plot(figsize=(20,5))"
   ]
  },
  {
   "cell_type": "code",
   "execution_count": 29,
   "metadata": {},
   "outputs": [
    {
     "data": {
      "text/plain": [
       "<matplotlib.axes._subplots.AxesSubplot at 0x11069ffd0>"
      ]
     },
     "execution_count": 29,
     "metadata": {},
     "output_type": "execute_result"
    },
    {
     "data": {
      "image/png": "[encoded data removed]",
      "text/plain": [
       "<Figure size 1440x360 with 1 Axes>"
      ]
     },
     "metadata": {},
     "output_type": "display_data"
    }
   ],
   "source": [
    "times.mean().plot(figsize=(20,5))"
   ]
  },
  {
   "cell_type": "code",
   "execution_count": null,
   "metadata": {},
   "outputs": [],
   "source": []
  },
  {
   "cell_type": "code",
   "execution_count": null,
   "metadata": {},
   "outputs": [],
   "source": []
  }
 ],
 "metadata": {
  "kernelspec": {
   "display_name": "Python 3",
   "language": "python",
   "name": "python3"
  },
  "language_info": {
   "codemirror_mode": {
    "name": "ipython",
    "version": 3
   },
   "file_extension": ".py",
   "mimetype": "text/x-python",
   "name": "python",
   "nbconvert_exporter": "python",
   "pygments_lexer": "ipython3",
   "version": "3.6.7"
  }
 },
 "nbformat": 4,
 "nbformat_minor": 2
}
