{
 "cells": [
  {
   "cell_type": "markdown",
   "metadata": {},
   "source": [
    "# Statistical analysis"
   ]
  },
  {
   "cell_type": "code",
   "execution_count": 83,
   "metadata": {},
   "outputs": [],
   "source": [
    "import pandas as pd\n",
    "import numpy as np\n",
    "import matplotlib.pyplot as plt\n",
    "\n",
    "d = pd.read_csv(\"data-processed.csv\")"
   ]
  },
  {
   "cell_type": "markdown",
   "metadata": {},
   "source": [
    "## Participants"
   ]
  },
  {
   "cell_type": "code",
   "execution_count": 33,
   "metadata": {},
   "outputs": [
    {
     "name": "stdout",
     "output_type": "stream",
     "text": [
      "Number of participants:\n",
      "21\n",
      "\n",
      "Native vs. non-native:\n",
      "\n",
      "Different kinds of designers:\n"
     ]
    }
   ],
   "source": [
    "print(\"Number of participants:\")\n",
    "print(len(d[\"Participant ID\"].unique()))\n",
    "print()\n",
    "print(\"Native vs. non-native:\")\n",
    "#print(d[\"Native\"].value_counts())\n",
    "print()\n",
    "print(\"Different kinds of designers:\")\n",
    "#print(d[\"Designer\"].value_counts())\n"
   ]
  },
  {
   "cell_type": "markdown",
   "metadata": {},
   "source": [
    "## JoM for categories of designers"
   ]
  },
  {
   "cell_type": "code",
   "execution_count": 18,
   "metadata": {},
   "outputs": [
    {
     "name": "stdout",
     "output_type": "stream",
     "text": [
      "JoM for categories of designers\n"
     ]
    },
    {
     "data": {
      "text/plain": [
       "Designer\n",
       "Non-designer      45.416667\n",
       "Other designer    48.333333\n",
       "Name: JoM, dtype: float64"
      ]
     },
     "metadata": {},
     "output_type": "display_data"
    }
   ],
   "source": [
    "display(d.groupby(\"Designer\")[\"JoM\"].mean())"
   ]
  },
  {
   "cell_type": "markdown",
   "metadata": {},
   "source": [
    "## JoL for categories of designers"
   ]
  },
  {
   "cell_type": "code",
   "execution_count": 19,
   "metadata": {},
   "outputs": [
    {
     "name": "stdout",
     "output_type": "stream",
     "text": [
      "JoL for categories of designers\n"
     ]
    },
    {
     "data": {
      "text/plain": [
       "Designer        JoL                   \n",
       "Non-designer    easy to read              396\n",
       "                difficult to read         360\n",
       "                very easy to read         288\n",
       "                ok                        144\n",
       "                very difficult to read    108\n",
       "Other designer  difficult to read          72\n",
       "                ok                         72\n",
       "                easy to read               36\n",
       "                very easy to read          36\n",
       "Name: JoL, dtype: int64"
      ]
     },
     "metadata": {},
     "output_type": "display_data"
    }
   ],
   "source": [
    "display(d.groupby(\"Designer\")[\"JoL\"].value_counts())"
   ]
  },
  {
   "cell_type": "markdown",
   "metadata": {},
   "source": [
    "## Calculating p(A)"
   ]
  },
  {
   "cell_type": "code",
   "execution_count": 151,
   "metadata": {},
   "outputs": [
    {
     "name": "stdout",
     "output_type": "stream",
     "text": [
      "# Lexical task, font: sansforgetica\n"
     ]
    },
    {
     "data": {
      "text/html": [
       "<div>\n",
       "<style scoped>\n",
       "    .dataframe tbody tr th:only-of-type {\n",
       "        vertical-align: middle;\n",
       "    }\n",
       "\n",
       "    .dataframe tbody tr th {\n",
       "        vertical-align: top;\n",
       "    }\n",
       "\n",
       "    .dataframe thead th {\n",
       "        text-align: right;\n",
       "    }\n",
       "</style>\n",
       "<table border=\"1\" class=\"dataframe\">\n",
       "  <thead>\n",
       "    <tr style=\"text-align: right;\">\n",
       "      <th></th>\n",
       "      <th></th>\n",
       "      <th>counts</th>\n",
       "      <th>frequencies</th>\n",
       "    </tr>\n",
       "    <tr>\n",
       "      <th>categories</th>\n",
       "      <th>responses</th>\n",
       "      <th></th>\n",
       "      <th></th>\n",
       "    </tr>\n",
       "  </thead>\n",
       "  <tbody>\n",
       "    <tr>\n",
       "      <th rowspan=\"4\" valign=\"top\">word</th>\n",
       "      <th>Sure word</th>\n",
       "      <td>209.0</td>\n",
       "      <td>0.995238</td>\n",
       "    </tr>\n",
       "    <tr>\n",
       "      <th>Probably word</th>\n",
       "      <td>1.0</td>\n",
       "      <td>0.004762</td>\n",
       "    </tr>\n",
       "    <tr>\n",
       "      <th>Probably non-word</th>\n",
       "      <td>0.0</td>\n",
       "      <td>0.000000</td>\n",
       "    </tr>\n",
       "    <tr>\n",
       "      <th>Sure non-word</th>\n",
       "      <td>0.0</td>\n",
       "      <td>0.000000</td>\n",
       "    </tr>\n",
       "    <tr>\n",
       "      <th rowspan=\"4\" valign=\"top\">non-word</th>\n",
       "      <th>Sure word</th>\n",
       "      <td>22.0</td>\n",
       "      <td>0.104762</td>\n",
       "    </tr>\n",
       "    <tr>\n",
       "      <th>Probably word</th>\n",
       "      <td>5.0</td>\n",
       "      <td>0.023810</td>\n",
       "    </tr>\n",
       "    <tr>\n",
       "      <th>Probably non-word</th>\n",
       "      <td>24.0</td>\n",
       "      <td>0.114286</td>\n",
       "    </tr>\n",
       "    <tr>\n",
       "      <th>Sure non-word</th>\n",
       "      <td>159.0</td>\n",
       "      <td>0.757143</td>\n",
       "    </tr>\n",
       "  </tbody>\n",
       "</table>\n",
       "</div>"
      ],
      "text/plain": [
       "                              counts  frequencies\n",
       "categories responses                             \n",
       "word       Sure word           209.0     0.995238\n",
       "           Probably word         1.0     0.004762\n",
       "           Probably non-word     0.0     0.000000\n",
       "           Sure non-word         0.0     0.000000\n",
       "non-word   Sure word            22.0     0.104762\n",
       "           Probably word         5.0     0.023810\n",
       "           Probably non-word    24.0     0.114286\n",
       "           Sure non-word       159.0     0.757143"
      ]
     },
     "metadata": {},
     "output_type": "display_data"
    },
    {
     "data": {
      "image/png": "[encoded data removed]",
      "text/plain": [
       "<Figure size 432x288 with 1 Axes>"
      ]
     },
     "metadata": {},
     "output_type": "display_data"
    },
    {
     "name": "stdout",
     "output_type": "stream",
     "text": [
      "\n",
      "\n",
      "\n",
      "# Lexical task, font: inputsans\n"
     ]
    },
    {
     "data": {
      "text/html": [
       "<div>\n",
       "<style scoped>\n",
       "    .dataframe tbody tr th:only-of-type {\n",
       "        vertical-align: middle;\n",
       "    }\n",
       "\n",
       "    .dataframe tbody tr th {\n",
       "        vertical-align: top;\n",
       "    }\n",
       "\n",
       "    .dataframe thead th {\n",
       "        text-align: right;\n",
       "    }\n",
       "</style>\n",
       "<table border=\"1\" class=\"dataframe\">\n",
       "  <thead>\n",
       "    <tr style=\"text-align: right;\">\n",
       "      <th></th>\n",
       "      <th></th>\n",
       "      <th>counts</th>\n",
       "      <th>frequencies</th>\n",
       "    </tr>\n",
       "    <tr>\n",
       "      <th>categories</th>\n",
       "      <th>responses</th>\n",
       "      <th></th>\n",
       "      <th></th>\n",
       "    </tr>\n",
       "  </thead>\n",
       "  <tbody>\n",
       "    <tr>\n",
       "      <th rowspan=\"4\" valign=\"top\">word</th>\n",
       "      <th>Sure word</th>\n",
       "      <td>209.0</td>\n",
       "      <td>0.995238</td>\n",
       "    </tr>\n",
       "    <tr>\n",
       "      <th>Probably word</th>\n",
       "      <td>0.0</td>\n",
       "      <td>0.000000</td>\n",
       "    </tr>\n",
       "    <tr>\n",
       "      <th>Probably non-word</th>\n",
       "      <td>0.0</td>\n",
       "      <td>0.000000</td>\n",
       "    </tr>\n",
       "    <tr>\n",
       "      <th>Sure non-word</th>\n",
       "      <td>1.0</td>\n",
       "      <td>0.004762</td>\n",
       "    </tr>\n",
       "    <tr>\n",
       "      <th rowspan=\"4\" valign=\"top\">non-word</th>\n",
       "      <th>Sure word</th>\n",
       "      <td>25.0</td>\n",
       "      <td>0.119048</td>\n",
       "    </tr>\n",
       "    <tr>\n",
       "      <th>Probably word</th>\n",
       "      <td>6.0</td>\n",
       "      <td>0.028571</td>\n",
       "    </tr>\n",
       "    <tr>\n",
       "      <th>Probably non-word</th>\n",
       "      <td>15.0</td>\n",
       "      <td>0.071429</td>\n",
       "    </tr>\n",
       "    <tr>\n",
       "      <th>Sure non-word</th>\n",
       "      <td>164.0</td>\n",
       "      <td>0.780952</td>\n",
       "    </tr>\n",
       "  </tbody>\n",
       "</table>\n",
       "</div>"
      ],
      "text/plain": [
       "                              counts  frequencies\n",
       "categories responses                             \n",
       "word       Sure word           209.0     0.995238\n",
       "           Probably word         0.0     0.000000\n",
       "           Probably non-word     0.0     0.000000\n",
       "           Sure non-word         1.0     0.004762\n",
       "non-word   Sure word            25.0     0.119048\n",
       "           Probably word         6.0     0.028571\n",
       "           Probably non-word    15.0     0.071429\n",
       "           Sure non-word       164.0     0.780952"
      ]
     },
     "metadata": {},
     "output_type": "display_data"
    },
    {
     "data": {
      "image/png": "[encoded data removed]",
      "text/plain": [
       "<Figure size 432x288 with 1 Axes>"
      ]
     },
     "metadata": {},
     "output_type": "display_data"
    },
    {
     "name": "stdout",
     "output_type": "stream",
     "text": [
      "\n",
      "\n",
      "\n",
      "# Recognition task, font: sansforgetica\n"
     ]
    },
    {
     "data": {
      "text/html": [
       "<div>\n",
       "<style scoped>\n",
       "    .dataframe tbody tr th:only-of-type {\n",
       "        vertical-align: middle;\n",
       "    }\n",
       "\n",
       "    .dataframe tbody tr th {\n",
       "        vertical-align: top;\n",
       "    }\n",
       "\n",
       "    .dataframe thead th {\n",
       "        text-align: right;\n",
       "    }\n",
       "</style>\n",
       "<table border=\"1\" class=\"dataframe\">\n",
       "  <thead>\n",
       "    <tr style=\"text-align: right;\">\n",
       "      <th></th>\n",
       "      <th></th>\n",
       "      <th>counts</th>\n",
       "      <th>frequencies</th>\n",
       "    </tr>\n",
       "    <tr>\n",
       "      <th>categories</th>\n",
       "      <th>responses</th>\n",
       "      <th></th>\n",
       "      <th></th>\n",
       "    </tr>\n",
       "  </thead>\n",
       "  <tbody>\n",
       "    <tr>\n",
       "      <th rowspan=\"4\" valign=\"top\">seen</th>\n",
       "      <th>Sure seen</th>\n",
       "      <td>74</td>\n",
       "      <td>0.437870</td>\n",
       "    </tr>\n",
       "    <tr>\n",
       "      <th>Probably seen</th>\n",
       "      <td>56</td>\n",
       "      <td>0.331361</td>\n",
       "    </tr>\n",
       "    <tr>\n",
       "      <th>Probably not seen</th>\n",
       "      <td>30</td>\n",
       "      <td>0.177515</td>\n",
       "    </tr>\n",
       "    <tr>\n",
       "      <th>Sure not seen</th>\n",
       "      <td>9</td>\n",
       "      <td>0.053254</td>\n",
       "    </tr>\n",
       "    <tr>\n",
       "      <th rowspan=\"4\" valign=\"top\">non-seen</th>\n",
       "      <th>Sure seen</th>\n",
       "      <td>20</td>\n",
       "      <td>0.119760</td>\n",
       "    </tr>\n",
       "    <tr>\n",
       "      <th>Probably seen</th>\n",
       "      <td>24</td>\n",
       "      <td>0.143713</td>\n",
       "    </tr>\n",
       "    <tr>\n",
       "      <th>Probably not seen</th>\n",
       "      <td>61</td>\n",
       "      <td>0.365269</td>\n",
       "    </tr>\n",
       "    <tr>\n",
       "      <th>Sure not seen</th>\n",
       "      <td>62</td>\n",
       "      <td>0.371257</td>\n",
       "    </tr>\n",
       "  </tbody>\n",
       "</table>\n",
       "</div>"
      ],
      "text/plain": [
       "                              counts  frequencies\n",
       "categories responses                             \n",
       "seen       Sure seen              74     0.437870\n",
       "           Probably seen          56     0.331361\n",
       "           Probably not seen      30     0.177515\n",
       "           Sure not seen           9     0.053254\n",
       "non-seen   Sure seen              20     0.119760\n",
       "           Probably seen          24     0.143713\n",
       "           Probably not seen      61     0.365269\n",
       "           Sure not seen          62     0.371257"
      ]
     },
     "metadata": {},
     "output_type": "display_data"
    },
    {
     "data": {
      "image/png": "[encoded data removed]",
      "text/plain": [
       "<Figure size 432x288 with 1 Axes>"
      ]
     },
     "metadata": {},
     "output_type": "display_data"
    },
    {
     "name": "stdout",
     "output_type": "stream",
     "text": [
      "\n",
      "\n",
      "\n",
      "# Recognition task, font: inputsans\n"
     ]
    },
    {
     "data": {
      "text/html": [
       "<div>\n",
       "<style scoped>\n",
       "    .dataframe tbody tr th:only-of-type {\n",
       "        vertical-align: middle;\n",
       "    }\n",
       "\n",
       "    .dataframe tbody tr th {\n",
       "        vertical-align: top;\n",
       "    }\n",
       "\n",
       "    .dataframe thead th {\n",
       "        text-align: right;\n",
       "    }\n",
       "</style>\n",
       "<table border=\"1\" class=\"dataframe\">\n",
       "  <thead>\n",
       "    <tr style=\"text-align: right;\">\n",
       "      <th></th>\n",
       "      <th></th>\n",
       "      <th>counts</th>\n",
       "      <th>frequencies</th>\n",
       "    </tr>\n",
       "    <tr>\n",
       "      <th>categories</th>\n",
       "      <th>responses</th>\n",
       "      <th></th>\n",
       "      <th></th>\n",
       "    </tr>\n",
       "  </thead>\n",
       "  <tbody>\n",
       "    <tr>\n",
       "      <th rowspan=\"4\" valign=\"top\">seen</th>\n",
       "      <th>Sure seen</th>\n",
       "      <td>90</td>\n",
       "      <td>0.535714</td>\n",
       "    </tr>\n",
       "    <tr>\n",
       "      <th>Probably seen</th>\n",
       "      <td>41</td>\n",
       "      <td>0.244048</td>\n",
       "    </tr>\n",
       "    <tr>\n",
       "      <th>Probably not seen</th>\n",
       "      <td>31</td>\n",
       "      <td>0.184524</td>\n",
       "    </tr>\n",
       "    <tr>\n",
       "      <th>Sure not seen</th>\n",
       "      <td>6</td>\n",
       "      <td>0.035714</td>\n",
       "    </tr>\n",
       "    <tr>\n",
       "      <th rowspan=\"4\" valign=\"top\">non-seen</th>\n",
       "      <th>Sure seen</th>\n",
       "      <td>20</td>\n",
       "      <td>0.119048</td>\n",
       "    </tr>\n",
       "    <tr>\n",
       "      <th>Probably seen</th>\n",
       "      <td>28</td>\n",
       "      <td>0.166667</td>\n",
       "    </tr>\n",
       "    <tr>\n",
       "      <th>Probably not seen</th>\n",
       "      <td>56</td>\n",
       "      <td>0.333333</td>\n",
       "    </tr>\n",
       "    <tr>\n",
       "      <th>Sure not seen</th>\n",
       "      <td>64</td>\n",
       "      <td>0.380952</td>\n",
       "    </tr>\n",
       "  </tbody>\n",
       "</table>\n",
       "</div>"
      ],
      "text/plain": [
       "                              counts  frequencies\n",
       "categories responses                             \n",
       "seen       Sure seen              90     0.535714\n",
       "           Probably seen          41     0.244048\n",
       "           Probably not seen      31     0.184524\n",
       "           Sure not seen           6     0.035714\n",
       "non-seen   Sure seen              20     0.119048\n",
       "           Probably seen          28     0.166667\n",
       "           Probably not seen      56     0.333333\n",
       "           Sure not seen          64     0.380952"
      ]
     },
     "metadata": {},
     "output_type": "display_data"
    },
    {
     "data": {
      "image/png": "[encoded data removed]",
      "text/plain": [
       "<Figure size 432x288 with 1 Axes>"
      ]
     },
     "metadata": {},
     "output_type": "display_data"
    },
    {
     "name": "stdout",
     "output_type": "stream",
     "text": [
      "\n",
      "\n",
      "\n"
     ]
    }
   ],
   "source": [
    "def cummulative(x):\n",
    "    return [sum(x[0:i+1]) for i in range(len(x))]\n",
    "\n",
    "def plot_roc(x, y):\n",
    "    plt.plot((min(x), max(x)), (min(y), max(y)), color='red', linewidth=1, linestyle='--')\n",
    "    for i in range(len(x)-1):\n",
    "        plt.plot((x[i], x[i+1]), (y[i], y[i+1]), color='black', linewidth=1)\n",
    "    for i in range(len(x)):\n",
    "        plt.scatter(x[i], y[i], marker='o', s=30, color='black')\n",
    "    #plt.xlim(0.0, 1.0)\n",
    "    #plt.ylim(0.0, 1.0)\n",
    "    plt.show()\n",
    "\n",
    "fonts = set(d[\"Font\"].unique())\n",
    "\n",
    "for test_type in [\"lexical\", \"recognition\"]:\n",
    "    if test_type == \"lexical\":\n",
    "        category_used = \"Category\"\n",
    "        categories = [\"word\", \"non-word\"]\n",
    "        responses = [\"Sure word\", \"Probably word\", \"Probably non-word\", \"Sure non-word\"]\n",
    "    else:\n",
    "        category_used = \"Seen\"\n",
    "        categories = [\"seen\", \"non-seen\"]\n",
    "        responses = [\"Sure seen\", \"Probably seen\", \"Probably not seen\", \"Sure not seen\"]\n",
    "    index = pd.MultiIndex.from_product([categories, responses], names=[\"categories\", \"responses\"])\n",
    "    for font in fonts:\n",
    "        dt = d[(d[\"Test type\"] == test_type) & (d[\"Font\"] == font)]\n",
    "        dg = pd.DataFrame(index=index)\n",
    "        dg[\"counts\"] = dt.groupby(category_used)[\"Response\"].value_counts()\n",
    "        dg[\"frequencies\"] = dt.groupby(category_used)[\"Response\"].value_counts(normalize=True)\n",
    "        dg = dg.fillna(0)\n",
    "        print(\"# %s task, font: %s\" % (test_type.title(), font))\n",
    "        display(dg)\n",
    "        plot_roc(cummulative(dg[\"frequencies\"].tolist()[4:]), cummulative(dg[\"frequencies\"].tolist()[:4]))\n",
    "        #print(get_auc((cummulative(dg[\"frequencies\"].tolist()[4:]), cummulative(dg[\"frequencies\"].tolist()[:4]))))\n",
    "        print()\n",
    "        print()\n",
    "        print()"
   ]
  },
  {
   "cell_type": "code",
   "execution_count": 120,
   "metadata": {},
   "outputs": [
    {
     "data": {
      "text/plain": [
       "[(0, 0), (1, 2), (2, 4)]"
      ]
     },
     "execution_count": 120,
     "metadata": {},
     "output_type": "execute_result"
    }
   ],
   "source": [
    "list(zip([0,1,2],[0,2,4]))"
   ]
  },
  {
   "cell_type": "code",
   "execution_count": null,
   "metadata": {},
   "outputs": [],
   "source": []
  }
 ],
 "metadata": {
  "kernelspec": {
   "display_name": "Python 3",
   "language": "python",
   "name": "python3"
  },
  "language_info": {
   "codemirror_mode": {
    "name": "ipython",
    "version": 3
   },
   "file_extension": ".py",
   "mimetype": "text/x-python",
   "name": "python",
   "nbconvert_exporter": "python",
   "pygments_lexer": "ipython3",
   "version": "3.6.8"
  }
 },
 "nbformat": 4,
 "nbformat_minor": 2
}
