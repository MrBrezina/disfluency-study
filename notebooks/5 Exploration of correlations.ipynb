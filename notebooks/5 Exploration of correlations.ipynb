{
 "cells": [
  {
   "cell_type": "markdown",
   "metadata": {},
   "source": [
    "# Exploration of correlations\n",
    "\n",
    "A few snippets exploring various possible correlations in the data"
   ]
  },
  {
   "cell_type": "code",
   "execution_count": 2,
   "metadata": {},
   "outputs": [
    {
     "name": "stdout",
     "output_type": "stream",
     "text": [
      "Loading: 876 lines 219 participants\n"
     ]
    }
   ],
   "source": [
    "import pandas as pd\n",
    "import pingouin as pg\n",
    "import os\n",
    "\n",
    "alpha = 0.05\n",
    "\n",
    "st = pd.read_csv(os.path.join(\"..\", \"data\", \"data_aggregated.csv\"), index_col=0)\n",
    "#st = pd.read_csv(os.path.join(\"..\", \"data\", \"data_outliers-replaced_aggregated.csv\"), index_col=0)\n",
    "\n",
    "print(\"Loading:\", len(st), \"lines\", len(st[\"ParticipantID\"].unique()), \"participants\")\n",
    "\n"
   ]
  },
  {
   "cell_type": "code",
   "execution_count": 3,
   "metadata": {},
   "outputs": [
    {
     "data": {
      "text/html": [
       "<div>\n",
       "<style scoped>\n",
       "    .dataframe tbody tr th:only-of-type {\n",
       "        vertical-align: middle;\n",
       "    }\n",
       "\n",
       "    .dataframe tbody tr th {\n",
       "        vertical-align: top;\n",
       "    }\n",
       "\n",
       "    .dataframe thead th {\n",
       "        text-align: right;\n",
       "    }\n",
       "</style>\n",
       "<table border=\"1\" class=\"dataframe\">\n",
       "  <thead>\n",
       "    <tr style=\"text-align: right;\">\n",
       "      <th></th>\n",
       "      <th>n</th>\n",
       "      <th>r</th>\n",
       "      <th>CI95%</th>\n",
       "      <th>r2</th>\n",
       "      <th>adj_r2</th>\n",
       "      <th>p-val</th>\n",
       "      <th>BF10</th>\n",
       "      <th>power</th>\n",
       "    </tr>\n",
       "  </thead>\n",
       "  <tbody>\n",
       "    <tr>\n",
       "      <th>pearson</th>\n",
       "      <td>464</td>\n",
       "      <td>-0.024295</td>\n",
       "      <td>[-0.12, 0.07]</td>\n",
       "      <td>0.00059</td>\n",
       "      <td>-0.003746</td>\n",
       "      <td>0.601672</td>\n",
       "      <td>0.067</td>\n",
       "      <td>0.081745</td>\n",
       "    </tr>\n",
       "  </tbody>\n",
       "</table>\n",
       "</div>"
      ],
      "text/plain": [
       "           n         r          CI95%       r2    adj_r2     p-val   BF10  \\\n",
       "pearson  464 -0.024295  [-0.12, 0.07]  0.00059 -0.003746  0.601672  0.067   \n",
       "\n",
       "            power  \n",
       "pearson  0.081745  "
      ]
     },
     "metadata": {},
     "output_type": "display_data"
    },
    {
     "data": {
      "text/html": [
       "<div>\n",
       "<style scoped>\n",
       "    .dataframe tbody tr th:only-of-type {\n",
       "        vertical-align: middle;\n",
       "    }\n",
       "\n",
       "    .dataframe tbody tr th {\n",
       "        vertical-align: top;\n",
       "    }\n",
       "\n",
       "    .dataframe thead th {\n",
       "        text-align: right;\n",
       "    }\n",
       "</style>\n",
       "<table border=\"1\" class=\"dataframe\">\n",
       "  <thead>\n",
       "    <tr style=\"text-align: right;\">\n",
       "      <th></th>\n",
       "      <th>n</th>\n",
       "      <th>outliers</th>\n",
       "      <th>r</th>\n",
       "      <th>CI95%</th>\n",
       "      <th>r2</th>\n",
       "      <th>adj_r2</th>\n",
       "      <th>p-val</th>\n",
       "      <th>power</th>\n",
       "    </tr>\n",
       "  </thead>\n",
       "  <tbody>\n",
       "    <tr>\n",
       "      <th>shepherd</th>\n",
       "      <td>464</td>\n",
       "      <td>23</td>\n",
       "      <td>-0.03779</td>\n",
       "      <td>[-0.13, 0.05]</td>\n",
       "      <td>0.001428</td>\n",
       "      <td>-0.002904</td>\n",
       "      <td>0.428578</td>\n",
       "      <td>0.128344</td>\n",
       "    </tr>\n",
       "  </tbody>\n",
       "</table>\n",
       "</div>"
      ],
      "text/plain": [
       "            n  outliers        r          CI95%        r2    adj_r2     p-val  \\\n",
       "shepherd  464        23 -0.03779  [-0.13, 0.05]  0.001428 -0.002904  0.428578   \n",
       "\n",
       "             power  \n",
       "shepherd  0.128344  "
      ]
     },
     "metadata": {},
     "output_type": "display_data"
    }
   ],
   "source": [
    "designers = st[st[\"isDesigner\"]]\n",
    "display(pg.corr(designers[\"RT\"], designers[\"AUC\"]))\n",
    "display(pg.corr(designers[\"RT\"], designers[\"AUC\"], method=\"shepherd\"))"
   ]
  },
  {
   "cell_type": "code",
   "execution_count": 4,
   "metadata": {},
   "outputs": [
    {
     "data": {
      "text/html": [
       "<div>\n",
       "<style scoped>\n",
       "    .dataframe tbody tr th:only-of-type {\n",
       "        vertical-align: middle;\n",
       "    }\n",
       "\n",
       "    .dataframe tbody tr th {\n",
       "        vertical-align: top;\n",
       "    }\n",
       "\n",
       "    .dataframe thead th {\n",
       "        text-align: right;\n",
       "    }\n",
       "</style>\n",
       "<table border=\"1\" class=\"dataframe\">\n",
       "  <thead>\n",
       "    <tr style=\"text-align: right;\">\n",
       "      <th></th>\n",
       "      <th>n</th>\n",
       "      <th>r</th>\n",
       "      <th>CI95%</th>\n",
       "      <th>r2</th>\n",
       "      <th>adj_r2</th>\n",
       "      <th>p-val</th>\n",
       "      <th>BF10</th>\n",
       "      <th>power</th>\n",
       "    </tr>\n",
       "  </thead>\n",
       "  <tbody>\n",
       "    <tr>\n",
       "      <th>pearson</th>\n",
       "      <td>412</td>\n",
       "      <td>0.011371</td>\n",
       "      <td>[-0.09, 0.11]</td>\n",
       "      <td>0.000129</td>\n",
       "      <td>-0.00476</td>\n",
       "      <td>0.818006</td>\n",
       "      <td>0.063</td>\n",
       "      <td>0.056053</td>\n",
       "    </tr>\n",
       "  </tbody>\n",
       "</table>\n",
       "</div>"
      ],
      "text/plain": [
       "           n         r          CI95%        r2   adj_r2     p-val   BF10  \\\n",
       "pearson  412  0.011371  [-0.09, 0.11]  0.000129 -0.00476  0.818006  0.063   \n",
       "\n",
       "            power  \n",
       "pearson  0.056053  "
      ]
     },
     "metadata": {},
     "output_type": "display_data"
    },
    {
     "data": {
      "text/html": [
       "<div>\n",
       "<style scoped>\n",
       "    .dataframe tbody tr th:only-of-type {\n",
       "        vertical-align: middle;\n",
       "    }\n",
       "\n",
       "    .dataframe tbody tr th {\n",
       "        vertical-align: top;\n",
       "    }\n",
       "\n",
       "    .dataframe thead th {\n",
       "        text-align: right;\n",
       "    }\n",
       "</style>\n",
       "<table border=\"1\" class=\"dataframe\">\n",
       "  <thead>\n",
       "    <tr style=\"text-align: right;\">\n",
       "      <th></th>\n",
       "      <th>n</th>\n",
       "      <th>outliers</th>\n",
       "      <th>r</th>\n",
       "      <th>CI95%</th>\n",
       "      <th>r2</th>\n",
       "      <th>adj_r2</th>\n",
       "      <th>p-val</th>\n",
       "      <th>power</th>\n",
       "    </tr>\n",
       "  </thead>\n",
       "  <tbody>\n",
       "    <tr>\n",
       "      <th>shepherd</th>\n",
       "      <td>412</td>\n",
       "      <td>24</td>\n",
       "      <td>-0.051335</td>\n",
       "      <td>[-0.15, 0.05]</td>\n",
       "      <td>0.002635</td>\n",
       "      <td>-0.002242</td>\n",
       "      <td>0.313171</td>\n",
       "      <td>0.180152</td>\n",
       "    </tr>\n",
       "  </tbody>\n",
       "</table>\n",
       "</div>"
      ],
      "text/plain": [
       "            n  outliers         r          CI95%        r2    adj_r2  \\\n",
       "shepherd  412        24 -0.051335  [-0.15, 0.05]  0.002635 -0.002242   \n",
       "\n",
       "             p-val     power  \n",
       "shepherd  0.313171  0.180152  "
      ]
     },
     "metadata": {},
     "output_type": "display_data"
    }
   ],
   "source": [
    "nondesigners = st[st[\"isDesigner\"] == False]\n",
    "display(pg.corr(nondesigners[\"RT\"], nondesigners[\"AUC\"]))\n",
    "display(pg.corr(nondesigners[\"RT\"], nondesigners[\"AUC\"], method=\"shepherd\"))"
   ]
  },
  {
   "cell_type": "code",
   "execution_count": null,
   "metadata": {},
   "outputs": [],
   "source": []
  }
 ],
 "metadata": {
  "kernelspec": {
   "display_name": "Python 3",
   "language": "python",
   "name": "python3"
  },
  "language_info": {
   "codemirror_mode": {
    "name": "ipython",
    "version": 3
   },
   "file_extension": ".py",
   "mimetype": "text/x-python",
   "name": "python",
   "nbconvert_exporter": "python",
   "pygments_lexer": "ipython3",
   "version": "3.6.10"
  }
 },
 "nbformat": 4,
 "nbformat_minor": 2
}
