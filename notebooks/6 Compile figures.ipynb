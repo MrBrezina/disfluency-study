{
 "cells": [
  {
   "cell_type": "markdown",
   "metadata": {},
   "source": [
    "# Compile figures for reports\n",
    "\n",
    "Format for D3 plots"
   ]
  },
  {
   "cell_type": "code",
   "execution_count": 1,
   "metadata": {},
   "outputs": [
    {
     "output_type": "stream",
     "name": "stdout",
     "text": [
      "Index(['ParticipantID', 'Type', 'TestID', 'TrialID', 'StudyID', 'Fluent',\n       'Training', 'Font', 'Sample', 'Category', 'Response', 'Correct', 'Seen',\n       'Foil', 'RT', 'RTnorm', 'JoM', 'JoL', 'Date'],\n      dtype='object')\nIndex(['StudyID', 'ParticipantID', 'TestID', 'Type', 'TaskID', 'Order',\n       'Ordertype', 'Firstfont', 'Fluent', 'Training', 'isDesigner', 'Font',\n       'Correct', 'RT', 'RTnorm', 'RT_word', 'RT_nonword', 'RTnorm_word',\n       'RTnorm_nonword', 'AUC', 'AUC_word', 'AUC_nonword', 'JoL', 'JoM',\n       'Date', 'AUCnorm', 'Correctnorm', 'AUCnorm_word', 'AUCnorm_nonword'],\n      dtype='object')\n"
     ]
    }
   ],
   "source": [
    "import pandas as pd\n",
    "import os\n",
    "\n",
    "d = pd.read_csv(os.path.join(\"..\", \"data\", \"data_outliers-replaced.csv\"), index_col=0)\n",
    "da = pd.read_csv(os.path.join(\"..\", \"data\", \"data_outliers-replaced_aggregated.csv\"), index_col=0)\n",
    "print(d.columns)\n",
    "print(da.columns)"
   ]
  },
  {
   "cell_type": "code",
   "execution_count": 21,
   "metadata": {},
   "outputs": [
    {
     "output_type": "stream",
     "name": "stdout",
     "text": [
      "\n<div class=\"barchart\"\n    data-name=\"Judgement of Memory\"\n    data-groups=\"Designers;Non-designers\"\n    data-options=\"Arial;Sans Forgetica\"\n    data-values=\"58.547,54.5;52.528,53.455;\"\n    data-errors=\"2.75,3.28;3.171,3.084;\"\n    ></div>\n\n"
     ]
    }
   ],
   "source": [
    "# JoM comparison by design training and font\n",
    "# only in Study #1, lexical task\n",
    "\n",
    "sid = 1\n",
    "options = [\"arial\", \"sansforgetica\"]\n",
    "groups = [\"designer\", \"non-designer\"]\n",
    "metric= \"JoM\"\n",
    "\n",
    "# values and options are entered as: \n",
    "# option 1 group 1, option 2 group 1; option 1 group 2, option 2 group 2; etc.\n",
    "values = \"\"\n",
    "errors = \"\"\n",
    "\n",
    "global_cond = (da[\"StudyID\"] == sid) & (da[\"Type\"] == \"lexical\")\n",
    "for option in options:\n",
    "    option_cond = (da[\"Font\"] == option)\n",
    "    for i, group in enumerate(groups):\n",
    "        group_cond = (da[\"isDesigner\"] == (group == \"designer\"))\n",
    "        r = da[global_cond & group_cond & option_cond][metric]\n",
    "        values += str(round(r.mean(), 3)) + \",\"\n",
    "        errors += str(round(r.sem(), 3)) + \",\"\n",
    "    values = values[:-1] + \";\"\n",
    "    errors = errors[:-1] + \";\"\n",
    "\n",
    "s = \"\"\"\n",
    "<div class=\"barchart\"\n",
    "    data-name=\"Judgement of Memory\"\n",
    "    data-groups=\"Designers;Non-designers\"\n",
    "    data-options=\"Arial;Sans Forgetica\"\n",
    "    data-values=\"%s\"\n",
    "    data-errors=\"%s\"\n",
    "    ></div>\n",
    "\"\"\" \n",
    "\n",
    "# optionally, save to file\n",
    "#with open(\"report1_figure4_JoM-by-design-training.html\", \"w\") as f:\n",
    "#    f.write(s % (values, errors))\n",
    "print(s % (values, errors))\n"
   ]
  },
  {
   "cell_type": "code",
   "execution_count": 22,
   "metadata": {
    "tags": []
   },
   "outputs": [
    {
     "output_type": "stream",
     "name": "stdout",
     "text": [
      "\n<div class=\"barchart\"\n    data-name=\"Response time\"\n    data-groups=\"Words;Non-words\"\n    data-options=\"Arial;Sans Forgetica\"\n    data-values=\"7.43,7.948;7.53,8.089;\"\n    data-errors=\"0.012,0.015;0.014,0.017;\"\n    data-offset=\"7\"\n    ></div>\n\n"
     ]
    }
   ],
   "source": [
    "# RT comparison by font and word/non-word\n",
    "# only in Study #1, lexical task\n",
    "\n",
    "sid = 1\n",
    "options = [\"arial\", \"sansforgetica\"]\n",
    "groups = [\"word\", \"non-word\"]\n",
    "metric = \"RTnorm\"\n",
    "\n",
    "# values and options are entered as: \n",
    "# option 1 group 1, option 2 group 1; option 1 group 2, option 2 group 2; etc.\n",
    "values = \"\"\n",
    "errors = \"\"\n",
    "\n",
    "global_cond = (d[\"StudyID\"] == sid) & (d[\"Type\"] == \"lexical\")\n",
    "for option in options:\n",
    "    option_cond = (d[\"Font\"] == option) \n",
    "    for i, group in enumerate(groups):\n",
    "        group_cond = (d[\"Category\"] == group)\n",
    "        r = d[global_cond & group_cond & option_cond][metric]\n",
    "        values += str(round(r.mean(), 3)) + \",\"\n",
    "        errors += str(round(r.sem(), 3)) + \",\"\n",
    "    values = values[:-1] + \";\"\n",
    "    errors = errors[:-1] + \";\"\n",
    "\n",
    "s = \"\"\"\n",
    "<div class=\"barchart\"\n",
    "    data-name=\"Response time\"\n",
    "    data-groups=\"Words;Non-words\"\n",
    "    data-options=\"Arial;Sans Forgetica\"\n",
    "    data-values=\"%s\"\n",
    "    data-errors=\"%s\"\n",
    "    data-offset=\"7\"\n",
    "    ></div>\n",
    "\"\"\" \n",
    "\n",
    "# optionally, save to file\n",
    "#with open(\"report1_figure5_RTs-by-word-type.html\", \"w\") as f:\n",
    "#    f.write(s % (values, errors))\n",
    "print(s % (values, errors))\n",
    "\n"
   ]
  },
  {
   "cell_type": "code",
   "execution_count": null,
   "metadata": {},
   "outputs": [],
   "source": []
  }
 ],
 "metadata": {
  "kernelspec": {
   "display_name": "Python 3",
   "language": "python",
   "name": "python3"
  },
  "language_info": {
   "codemirror_mode": {
    "name": "ipython",
    "version": 3
   },
   "file_extension": ".py",
   "mimetype": "text/x-python",
   "name": "python",
   "nbconvert_exporter": "python",
   "pygments_lexer": "ipython3",
   "version": "3.8.3"
  }
 },
 "nbformat": 4,
 "nbformat_minor": 2
}