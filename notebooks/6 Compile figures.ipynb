{
 "cells": [
  {
   "cell_type": "markdown",
   "metadata": {},
   "source": [
    "# Compile figures for reports\n",
    "\n",
    "Format for D3 plots"
   ]
  },
  {
   "cell_type": "code",
   "execution_count": 30,
   "metadata": {},
   "outputs": [],
   "source": [
    "import pandas as pd\n",
    "import os\n",
    "\n",
    "d = pd.read_csv(os.path.join(\"..\", \"data\", \"data.csv\"), index_col=0)\n",
    "da = pd.read_csv(os.path.join(\"..\", \"data\", \"data_aggregated.csv\"), index_col=0)"
   ]
  },
  {
   "cell_type": "code",
   "execution_count": 31,
   "metadata": {},
   "outputs": [
    {
     "output_type": "stream",
     "name": "stdout",
     "text": [
      "Index(['StudyID', 'ParticipantID', 'Fluent', 'Training', 'TestID', 'Type',\n       'TrialID', 'Font', 'Sample', 'Category', 'Response', 'Correct', 'Seen',\n       'Foil', 'RT', 'RTnorm', 'JoM', 'JoL', 'Date'],\n      dtype='object')\n"
     ]
    }
   ],
   "source": [
    "print(d.columns)"
   ]
  },
  {
   "cell_type": "code",
   "execution_count": 40,
   "metadata": {},
   "outputs": [],
   "source": [
    "# JoM comparison by design training and font\n",
    "\n",
    "sid = 1\n",
    "fonts = [\"arial\", \"sansforgetica\"]\n",
    "skills = [\"Designer\", \"Non-designer\"]\n",
    "metrics = [\"JoM\"]\n",
    "# JoM only for lexical task\n",
    "\n",
    "values = []\n",
    "\n",
    "for skill in skills:\n",
    "    for font in fonts:\n",
    "        if skill == \"Designer\":\n",
    "            r = da[(da[\"isDesigner\"] == True) & (da[\"Font\"] == font) & (da[\"StudyID\"] == sid) & (da[\"Type\"] == \"lexical\")][\"JoM\"]\n",
    "        else:\n",
    "            r = da[(da[\"isDesigner\"] == False) & (da[\"Font\"] == font) & (da[\"StudyID\"] == sid) & (da[\"Type\"] == \"lexical\")][\"JoM\"]\n",
    "        values.append(\",\".join([str(v) for v in r.values]))\n",
    "\n",
    "s = \"\"\"\n",
    "<div class=\"boxchart\"\n",
    "    data-name=\"Judgement of Memory\"\n",
    "    data-groups=\"Designers;Non-designers\"\n",
    "    data-options=\"Arial;Sans Forgetica\"\n",
    "    data-values=\"%s\"\n",
    "    ></div>\n",
    "\"\"\" \n",
    "with open(\"figure_4.report1_figure4.html\", \"w\") as f:\n",
    "    f.write(s % \";\".join(values))\n"
   ]
  },
  {
   "cell_type": "code",
   "execution_count": 39,
   "metadata": {
    "tags": []
   },
   "outputs": [],
   "source": [
    "# JoM comparison by design training and font\n",
    "\n",
    "sid = 1\n",
    "fonts = [\"arial\", \"sansforgetica\"]\n",
    "wordtypes = [\"Word\", \"Non-word\"]\n",
    "metrics = [\"RT\"]\n",
    "# RTs only for lexical task\n",
    "\n",
    "values = []\n",
    "\n",
    "for font in fonts:\n",
    "    for wordtype in wordtypes:\n",
    "        if wordtype == \"Word\":\n",
    "            r = d[(d[\"Font\"] == font) & (d[\"StudyID\"] == sid) & (d[\"Type\"] == \"lexical\")  & (d[\"Category\"] == \"word\")][\"RT\"]\n",
    "        else:\n",
    "            r = d[(d[\"Font\"] == font) & (d[\"StudyID\"] == sid) & (d[\"Type\"] == \"lexical\")  & (d[\"Category\"] == \"non-word\")][\"RT\"]\n",
    "        values.append(\",\".join([\"%.3f\" % v for v in r.values]))\n",
    "\n",
    "s = \"\"\"\n",
    "<div class=\"boxchart\"\n",
    "    data-name=\"Response times\"\n",
    "    data-groups=\"Arial;Sans Forgetica\"\n",
    "    data-options=\"Words;Non-words\"\n",
    "    data-values=\"%s\"\n",
    "    ></div>\n",
    "\"\"\" \n",
    "with open(\"report1_figure5.html\", \"w\") as f:\n",
    "    f.write(s % \";\".join(values))\n"
   ]
  },
  {
   "cell_type": "code",
   "execution_count": null,
   "metadata": {},
   "outputs": [],
   "source": []
  }
 ],
 "metadata": {
  "kernelspec": {
   "display_name": "Python 3",
   "language": "python",
   "name": "python3"
  },
  "language_info": {
   "codemirror_mode": {
    "name": "ipython",
    "version": 3
   },
   "file_extension": ".py",
   "mimetype": "text/x-python",
   "name": "python",
   "nbconvert_exporter": "python",
   "pygments_lexer": "ipython3",
   "version": "3.8.3"
  }
 },
 "nbformat": 4,
 "nbformat_minor": 2
}